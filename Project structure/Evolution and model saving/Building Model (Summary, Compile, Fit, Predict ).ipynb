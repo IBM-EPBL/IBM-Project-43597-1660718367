{
 "cells": [
  {
   "cell_type": "code",
   "execution_count": 1,
   "id": "e5e58d7a",
   "metadata": {},
   "outputs": [],
   "source": [
    "from tensorflow.keras.models import Sequential \n",
    "from tensorflow.keras.layers import Dense\n",
    "from tensorflow.keras.layers import Convolution2D\n",
    "from tensorflow.keras.layers import MaxPooling2D\n",
    "from tensorflow.keras.layers import Flatten\n",
    "from tensorflow.keras.preprocessing.image import ImageDataGenerator"
   ]
  },
  {
   "cell_type": "code",
   "execution_count": 2,
   "id": "a1a10571",
   "metadata": {},
   "outputs": [],
   "source": [
    "train_datagen=ImageDataGenerator(rescale=1./255,shear_range=0.2,zoom_range=0.2,horizontal_flip=True,vertical_flip=True)"
   ]
  },
  {
   "cell_type": "code",
   "execution_count": 3,
   "id": "e0dc5535",
   "metadata": {},
   "outputs": [],
   "source": [
    "test_datagen=ImageDataGenerator(rescale=1./255)"
   ]
  },
  {
   "cell_type": "code",
   "execution_count": 4,
   "id": "5a11ccf4",
   "metadata": {},
   "outputs": [
    {
     "name": "stdout",
     "output_type": "stream",
     "text": [
      "Found 138 images belonging to 3 classes.\n"
     ]
    }
   ],
   "source": [
    "x_train=train_datagen.flow_from_directory(r\"F:\\dataset\\Digital Naturalist Dataset\\train\",target_size=(64,64),batch_size=32,class_mode=\"categorical\")"
   ]
  },
  {
   "cell_type": "code",
   "execution_count": 5,
   "id": "2d541ddd",
   "metadata": {},
   "outputs": [
    {
     "name": "stdout",
     "output_type": "stream",
     "text": [
      "Found 138 images belonging to 3 classes.\n"
     ]
    }
   ],
   "source": [
    "x_test=train_datagen.flow_from_directory(r\"F:\\dataset\\Digital Naturalist Dataset\\test\",target_size=(64,64),batch_size=32,class_mode=\"categorical\")"
   ]
  },
  {
   "cell_type": "code",
   "execution_count": 6,
   "id": "8fc012c8",
   "metadata": {},
   "outputs": [
    {
     "data": {
      "text/plain": [
       "{'Bird': 0, 'Flower': 1, 'Mammal': 2}"
      ]
     },
     "execution_count": 6,
     "metadata": {},
     "output_type": "execute_result"
    }
   ],
   "source": [
    "x_train.class_indices"
   ]
  },
  {
   "cell_type": "code",
   "execution_count": 7,
   "id": "eb689e86",
   "metadata": {},
   "outputs": [
    {
     "data": {
      "text/plain": [
       "{'Bird': 0, 'Flower': 1, 'Mammal': 2}"
      ]
     },
     "execution_count": 7,
     "metadata": {},
     "output_type": "execute_result"
    }
   ],
   "source": [
    "x_test.class_indices"
   ]
  },
  {
   "cell_type": "code",
   "execution_count": 8,
   "id": "bc02f8c2",
   "metadata": {},
   "outputs": [],
   "source": [
    "model=Sequential()"
   ]
  },
  {
   "cell_type": "code",
   "execution_count": 9,
   "id": "a3ccc6f0",
   "metadata": {},
   "outputs": [],
   "source": [
    "model.add(Convolution2D(32,(3,3),input_shape=(64,64,3),activation='relu'))"
   ]
  },
  {
   "cell_type": "code",
   "execution_count": 10,
   "id": "69f6d162",
   "metadata": {},
   "outputs": [],
   "source": [
    "model.add(MaxPooling2D(pool_size=(2,2)))"
   ]
  },
  {
   "cell_type": "code",
   "execution_count": 11,
   "id": "a2731e3e",
   "metadata": {},
   "outputs": [],
   "source": [
    "model.add(Flatten())"
   ]
  },
  {
   "cell_type": "code",
   "execution_count": 12,
   "id": "6b1d4c38",
   "metadata": {},
   "outputs": [],
   "source": [
    "from tensorflow.keras.layers import Dense\n",
    "from tensorflow.keras.layers import Dropout"
   ]
  },
  {
   "cell_type": "code",
   "execution_count": 13,
   "id": "17274b74",
   "metadata": {},
   "outputs": [],
   "source": [
    "model.add(Dense(units=300,kernel_initializer=\"random_uniform\",activation='relu'))"
   ]
  },
  {
   "cell_type": "code",
   "execution_count": 14,
   "id": "5d1ea95c",
   "metadata": {},
   "outputs": [],
   "source": [
    "model.add(Dense(units=200,kernel_initializer=\"random_uniform\",activation='relu'))"
   ]
  },
  {
   "cell_type": "code",
   "execution_count": 15,
   "id": "da7ca8d5",
   "metadata": {},
   "outputs": [],
   "source": [
    "model.add(Dense(units=3,kernel_initializer=\"random_uniform\",activation='softmax'))"
   ]
  },
  {
   "cell_type": "code",
   "execution_count": 16,
   "id": "ced090de",
   "metadata": {},
   "outputs": [],
   "source": [
    "model.compile(loss=\"categorical_crossentropy\",optimizer=\"adam\",metrics=[\"accuracy\"])"
   ]
  },
  {
   "cell_type": "code",
   "execution_count": 17,
   "id": "d9d82666",
   "metadata": {},
   "outputs": [
    {
     "name": "stderr",
     "output_type": "stream",
     "text": [
      "C:\\Users\\admin\\AppData\\Local\\Temp\\ipykernel_5904\\3933243730.py:1: UserWarning: `Model.fit_generator` is deprecated and will be removed in a future version. Please use `Model.fit`, which supports generators.\n",
      "  model.fit_generator(x_train,steps_per_epoch=4,epochs=25,validation_data=x_test,validation_steps=10)\n"
     ]
    },
    {
     "name": "stdout",
     "output_type": "stream",
     "text": [
      "Epoch 1/25\n",
      "4/4 [==============================] - ETA: 0s - loss: 1.4022 - accuracy: 0.3113WARNING:tensorflow:Your input ran out of data; interrupting training. Make sure that your dataset or generator can generate at least `steps_per_epoch * epochs` batches (in this case, 10 batches). You may need to use the repeat() function when building your dataset.\n",
      "4/4 [==============================] - 3s 810ms/step - loss: 1.4022 - accuracy: 0.3113 - val_loss: 1.1004 - val_accuracy: 0.3116\n",
      "Epoch 2/25\n",
      "4/4 [==============================] - 1s 180ms/step - loss: 1.1462 - accuracy: 0.3208\n",
      "Epoch 3/25\n",
      "4/4 [==============================] - 1s 208ms/step - loss: 1.0737 - accuracy: 0.3679\n",
      "Epoch 4/25\n",
      "4/4 [==============================] - 1s 176ms/step - loss: 1.0177 - accuracy: 0.4623\n",
      "Epoch 5/25\n",
      "4/4 [==============================] - 1s 175ms/step - loss: 0.9864 - accuracy: 0.5000\n",
      "Epoch 6/25\n",
      "4/4 [==============================] - 1s 193ms/step - loss: 0.8835 - accuracy: 0.5938\n",
      "Epoch 7/25\n",
      "4/4 [==============================] - 1s 180ms/step - loss: 0.7876 - accuracy: 0.6132\n",
      "Epoch 8/25\n",
      "4/4 [==============================] - 1s 172ms/step - loss: 0.8808 - accuracy: 0.5566\n",
      "Epoch 9/25\n",
      "4/4 [==============================] - 1s 193ms/step - loss: 0.7368 - accuracy: 0.6406\n",
      "Epoch 10/25\n",
      "4/4 [==============================] - 1s 170ms/step - loss: 0.6672 - accuracy: 0.6509\n",
      "Epoch 11/25\n",
      "4/4 [==============================] - 1s 181ms/step - loss: 0.6525 - accuracy: 0.6415\n",
      "Epoch 12/25\n",
      "4/4 [==============================] - 1s 196ms/step - loss: 0.6062 - accuracy: 0.6792\n",
      "Epoch 13/25\n",
      "4/4 [==============================] - 1s 193ms/step - loss: 0.5449 - accuracy: 0.7264\n",
      "Epoch 14/25\n",
      "4/4 [==============================] - 1s 193ms/step - loss: 0.6037 - accuracy: 0.7109\n",
      "Epoch 15/25\n",
      "4/4 [==============================] - 1s 168ms/step - loss: 0.5881 - accuracy: 0.7170\n",
      "Epoch 16/25\n",
      "4/4 [==============================] - 1s 215ms/step - loss: 0.5633 - accuracy: 0.7344\n",
      "Epoch 17/25\n",
      "4/4 [==============================] - 1s 156ms/step - loss: 0.5520 - accuracy: 0.7547\n",
      "Epoch 18/25\n",
      "4/4 [==============================] - 1s 157ms/step - loss: 0.6437 - accuracy: 0.6981\n",
      "Epoch 19/25\n",
      "4/4 [==============================] - 1s 233ms/step - loss: 0.5511 - accuracy: 0.7453\n",
      "Epoch 20/25\n",
      "4/4 [==============================] - 1s 168ms/step - loss: 0.5885 - accuracy: 0.6887\n",
      "Epoch 21/25\n",
      "4/4 [==============================] - 1s 171ms/step - loss: 0.5025 - accuracy: 0.7642\n",
      "Epoch 22/25\n",
      "4/4 [==============================] - 1s 221ms/step - loss: 0.5085 - accuracy: 0.7578\n",
      "Epoch 23/25\n",
      "4/4 [==============================] - 1s 207ms/step - loss: 0.4796 - accuracy: 0.7344\n",
      "Epoch 24/25\n",
      "4/4 [==============================] - 1s 188ms/step - loss: 0.5077 - accuracy: 0.7547\n",
      "Epoch 25/25\n",
      "4/4 [==============================] - 1s 196ms/step - loss: 0.4737 - accuracy: 0.7812\n"
     ]
    },
    {
     "data": {
      "text/plain": [
       "<keras.callbacks.History at 0x264a1551dc0>"
      ]
     },
     "execution_count": 17,
     "metadata": {},
     "output_type": "execute_result"
    }
   ],
   "source": [
    "model.fit_generator(x_train,steps_per_epoch=4,epochs=25,validation_data=x_test,validation_steps=10)"
   ]
  },
  {
   "cell_type": "code",
   "execution_count": 18,
   "id": "704bb076",
   "metadata": {},
   "outputs": [],
   "source": [
    "model.save(\"flora&fauna.h5\")"
   ]
  },
  {
   "cell_type": "code",
   "execution_count": 19,
   "id": "baca337a",
   "metadata": {},
   "outputs": [],
   "source": [
    "from tensorflow.keras.models import load_model\n",
    "from tensorflow.keras.preprocessing import image\n",
    "import numpy as np"
   ]
  },
  {
   "cell_type": "code",
   "execution_count": 20,
   "id": "1a72f169",
   "metadata": {},
   "outputs": [],
   "source": [
    "model=load_model(\"flora&fauna.h5\")"
   ]
  },
  {
   "cell_type": "code",
   "execution_count": 21,
   "id": "293151fa",
   "metadata": {},
   "outputs": [],
   "source": [
    "img=image.load_img(r\"F:\\Corpse Flower.jpg\",target_size=(64,64))"
   ]
  },
  {
   "cell_type": "code",
   "execution_count": 22,
   "id": "8c783072",
   "metadata": {},
   "outputs": [
    {
     "data": {
      "image/png": "[encoded data removed]",
      "text/plain": [
       "<PIL.Image.Image image mode=RGB size=64x64>"
      ]
     },
     "execution_count": 22,
     "metadata": {},
     "output_type": "execute_result"
    }
   ],
   "source": [
    "img"
   ]
  },
  {
   "cell_type": "code",
   "execution_count": 23,
   "id": "ffb58235",
   "metadata": {},
   "outputs": [
    {
     "data": {
      "text/plain": [
       "PIL.Image.Image"
      ]
     },
     "execution_count": 23,
     "metadata": {},
     "output_type": "execute_result"
    }
   ],
   "source": [
    "type(img)"
   ]
  },
  {
   "cell_type": "code",
   "execution_count": 24,
   "id": "a9c58afe",
   "metadata": {},
   "outputs": [],
   "source": [
    "x=image.img_to_array(img)"
   ]
  },
  {
   "cell_type": "code",
   "execution_count": 25,
   "id": "a59d5ec0",
   "metadata": {},
   "outputs": [
    {
     "data": {
      "text/plain": [
       "(64, 64, 3)"
      ]
     },
     "execution_count": 25,
     "metadata": {},
     "output_type": "execute_result"
    }
   ],
   "source": [
    "x.shape"
   ]
  },
  {
   "cell_type": "code",
   "execution_count": 26,
   "id": "a59cc2a8",
   "metadata": {},
   "outputs": [],
   "source": [
    "x=np.expand_dims(x,axis=0)"
   ]
  },
  {
   "cell_type": "code",
   "execution_count": 27,
   "id": "67a9ffa8",
   "metadata": {},
   "outputs": [
    {
     "data": {
      "text/plain": [
       "(1, 64, 64, 3)"
      ]
     },
     "execution_count": 27,
     "metadata": {},
     "output_type": "execute_result"
    }
   ],
   "source": [
    "x.shape"
   ]
  },
  {
   "cell_type": "code",
   "execution_count": 28,
   "id": "2d8d266a",
   "metadata": {},
   "outputs": [
    {
     "name": "stdout",
     "output_type": "stream",
     "text": [
      "1/1 [==============================] - 0s 110ms/step\n"
     ]
    }
   ],
   "source": [
    "pred_prob=model.predict(x)"
   ]
  },
  {
   "cell_type": "code",
   "execution_count": 29,
   "id": "4c0b5d81",
   "metadata": {},
   "outputs": [
    {
     "data": {
      "text/plain": [
       "array([[0., 1., 0.]], dtype=float32)"
      ]
     },
     "execution_count": 29,
     "metadata": {},
     "output_type": "execute_result"
    }
   ],
   "source": [
    "pred_prob"
   ]
  },
  {
   "cell_type": "code",
   "execution_count": 30,
   "id": "3e0e3b90",
   "metadata": {},
   "outputs": [],
   "source": [
    "class_name=[\"Bird\",\"Flower\",\"Mammal\"]"
   ]
  },
  {
   "cell_type": "code",
   "execution_count": 31,
   "id": "26f8ccc0",
   "metadata": {},
   "outputs": [],
   "source": [
    "pred_id=pred_prob.argmax(axis=1)[0]"
   ]
  },
  {
   "cell_type": "code",
   "execution_count": 32,
   "id": "12c7d32c",
   "metadata": {},
   "outputs": [
    {
     "data": {
      "text/plain": [
       "1"
      ]
     },
     "execution_count": 32,
     "metadata": {},
     "output_type": "execute_result"
    }
   ],
   "source": [
    "pred_id"
   ]
  },
  {
   "cell_type": "code",
   "execution_count": 33,
   "id": "65a04a3f",
   "metadata": {},
   "outputs": [
    {
     "name": "stdout",
     "output_type": "stream",
     "text": [
      "predicted  is Flower\n"
     ]
    }
   ],
   "source": [
    "print(\"predicted  is\",str(class_name[pred_id]))"
   ]
  }
 ],
 "metadata": {
  "kernelspec": {
   "display_name": "Python 3 (ipykernel)",
   "language": "python",
   "name": "python3"
  },
  "language_info": {
   "codemirror_mode": {
    "name": "ipython",
    "version": 3
   },
   "file_extension": ".py",
   "mimetype": "text/x-python",
   "name": "python",
   "nbconvert_exporter": "python",
   "pygments_lexer": "ipython3",
   "version": "3.9.13"
  }
 },
 "nbformat": 4,
 "nbformat_minor": 5
}
