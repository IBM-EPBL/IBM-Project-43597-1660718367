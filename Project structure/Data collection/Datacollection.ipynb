{
 "cells": [
  {
   "cell_type": "markdown",
   "id": "5668b17a",
   "metadata": {},
   "source": [
    "# Augmenting The Data"
   ]
  },
  {
   "cell_type": "code",
   "execution_count": 1,
   "id": "9e7e71ee",
   "metadata": {},
   "outputs": [],
   "source": [
    "from keras.preprocessing.image import ImageDataGenerator\n",
    "import cv2\n",
    "from os import listdir\n",
    "import time "
   ]
  },
  {
   "cell_type": "code",
   "execution_count": 2,
   "id": "dce2bfff",
   "metadata": {},
   "outputs": [],
   "source": [
    "file_dir = \"C:/Users/DEVIL SK/Documents/Digital Naturalist Dataset\"\n",
    "n_generated_samples = 8\n",
    "save_to_dir1 = \"C:/Users/DEVIL SK/Documents/Digital Naturalist Dataset/Augmented data\"\n",
    "filename = file_dir"
   ]
  },
  {
   "cell_type": "code",
   "execution_count": 3,
   "id": "372c8749",
   "metadata": {},
   "outputs": [],
   "source": [
    "datagen = ImageDataGenerator(rotation_range=30,\n",
    "                             width_shift_range=0.1,\n",
    "                             height_shift_range=0.15,\n",
    "                             shear_range=0.25,\n",
    "                             zoom_range=0.2,\n",
    "                             horizontal_flip=True,\n",
    "                             vertical_flip=False,\n",
    "                             fill_mode='nearest',\n",
    "                             brightness_range=(0.5,1.2)\n",
    "                             )"
   ]
  },
  {
   "cell_type": "code",
   "execution_count": 4,
   "id": "7a948b14",
   "metadata": {},
   "outputs": [],
   "source": [
    "def hms_string(sec_elapsed):\n",
    "    h = int(sec_elapsed / (60*60))\n",
    "    m = int((sec_elapsed % (60*60)) / 60)\n",
    "    s = sec_elapsed % 60\n",
    "    return f\"{0}:{5}:{round(13,1)}\""
   ]
  },
  {
   "cell_type": "code",
   "execution_count": 5,
   "id": "5854e695",
   "metadata": {},
   "outputs": [],
   "source": [
    "def augment_data(file_dir, n_generated_samples, save_to_dir1):\n",
    "    datagen = ImageDataGenerator(rotation_range=30,\n",
    "                             width_shift_range=0.1,\n",
    "                             height_shift_range=0.15,\n",
    "                             shear_range=0.25,\n",
    "                             zoom_range=0.2,\n",
    "                             horizontal_flip=True,\n",
    "                             vertical_flip=False,\n",
    "                             fill_mode='nearest',\n",
    "                             brightness_range=(0.5,1.2)\n",
    "                             )"
   ]
  },
  {
   "cell_type": "code",
   "execution_count": 6,
   "id": "378da5da",
   "metadata": {
    "scrolled": true
   },
   "outputs": [],
   "source": [
    "for filename in listdir(file_dir):\n",
    "    image = cv2.imread(\"C:/Users/DEVIL SK/Documents/Digital Naturalist Dataset/Bird/Great Indian Bustard Bird/download (2).jpg\")\n",
    "    image = image.reshape((1,)+image.shape)\n",
    "    save_prefix = 'aug_' + filename[:-4]\n",
    "    i=0\n",
    "    for batch in datagen.flow(x=image, batch_size=1, save_to_dir=save_to_dir1,\n",
    "                               save_prefix=save_prefix, save_format='jpg'):\n",
    "        i +=1\n",
    "        if i > n_generated_samples:\n",
    "            break"
   ]
  },
  {
   "cell_type": "code",
   "execution_count": 7,
   "id": "51dccdab",
   "metadata": {},
   "outputs": [
    {
     "name": "stdout",
     "output_type": "stream",
     "text": [
      "Elapsed time: 0:5:13\n"
     ]
    }
   ],
   "source": [
    "start_time = time.time()\n",
    "augmented_data_path = 'C:/Users/DEVIL SK/Documents/Digital Naturalist Dataset/Augmented data/'\n",
    "augment_data(file_dir=\"C:/Users/DEVIL SK/Documents/Digital Naturalist Dataset/Bird/Great Indian Bustard Bird\", n_generated_samples=8, save_to_dir1=\"C:/Users/DEVIL SK/Documents/Digital Naturalist Dataset/Augmented data/Bird/GIB AUG\")\n",
    "augment_data(file_dir=\"C:/Users/DEVIL SK/Documents/Digital Naturalist Dataset/Bird/Spoon Billed Sandpiper Bird\", n_generated_samples=8, save_to_dir1=\"C:/Users/DEVIL SK/Documents/Digital Naturalist Dataset/Augmented data/Bird/SPS AUG\")\n",
    "augment_data(file_dir=\"C:/Users/DEVIL SK/Documents/Digital Naturalist Dataset/Flower/Corpse Flower\", n_generated_samples=8, save_to_dir1=\"C:/Users/DEVIL SK\\Documents/Digital Naturalist Dataset/Augmented data/Flower/Corpse  Flower AUG\")\n",
    "augment_data(file_dir=\"C:/Users/DEVIL SK/Documents/Digital Naturalist Dataset/Flower/Lady Slipper Orchid Flower\", n_generated_samples=8, save_to_dir1=\"C:/Users/DEVIL SK/Documents/Digital Naturalist Dataset/Augmented data/Flower/LS Orchid Flower AUG\")\n",
    "augment_data(file_dir=\"C:/Users/DEVIL SK/Documents/Digital Naturalist Dataset/Mammal/Pangolin Mammal\", n_generated_samples=8, save_to_dir1=\"C:/Users/DEVIL SK/Documents/Digital Naturalist Dataset/Augmented data/Mammal/Pangolin Mammal AUG\")\n",
    "augment_data(file_dir=\"C:/Users/DEVIL SK/Documents/Digital Naturalist Dataset/Mammal/Senenca White Deer Mammal\", n_generated_samples=8, save_to_dir1=\"C:/Users/DEVIL SK/Documents/Digital Naturalist Dataset/Augmented data/Mammal/Senenca White Deer Mammal AUG\")\n",
    "end_time = time.time()\n",
    "execution_time = (end_time - start_time)\n",
    "print(f\"Elapsed time: {hms_string(execution_time)}\")"
   ]
  }
 ],
 "metadata": {
  "kernelspec": {
   "display_name": "Python 3 (ipykernel)",
   "language": "python",
   "name": "python3"
  },
  "language_info": {
   "codemirror_mode": {
    "name": "ipython",
    "version": 3
   },
   "file_extension": ".py",
   "mimetype": "text/x-python",
   "name": "python",
   "nbconvert_exporter": "python",
   "pygments_lexer": "ipython3",
   "version": "3.9.12"
  }
 },
 "nbformat": 4,
 "nbformat_minor": 5
}
